{
 "cells": [
  {
   "cell_type": "code",
   "execution_count": 242,
   "id": "3fcc0b16",
   "metadata": {},
   "outputs": [],
   "source": [
    "import numpy as np\n",
    "import pandas as pd\n",
    "import zipfile"
   ]
  },
  {
   "cell_type": "code",
   "execution_count": 243,
   "id": "38af74f9",
   "metadata": {},
   "outputs": [],
   "source": [
    "movies_df=pd.read_csv('movie_df.csv')"
   ]
  },
  {
   "cell_type": "code",
   "execution_count": 244,
   "id": "e86a9546",
   "metadata": {},
   "outputs": [],
   "source": [
    "from nltk.stem.porter import PorterStemmer\n",
    "ps=PorterStemmer()"
   ]
  },
  {
   "cell_type": "code",
   "execution_count": 245,
   "id": "0bee1a70",
   "metadata": {},
   "outputs": [],
   "source": [
    "def stem(x):\n",
    "    List=[]\n",
    "    x=x.split()\n",
    "    for i in x:\n",
    "        List.append(ps.stem(str(i)))\n",
    "    return \" \".join(List)"
   ]
  },
  {
   "cell_type": "code",
   "execution_count": 246,
   "id": "d3bc7137",
   "metadata": {},
   "outputs": [],
   "source": [
    "movies_df['tags']=movies_df['tags'].apply(lambda x:stem(x))"
   ]
  },
  {
   "cell_type": "code",
   "execution_count": 247,
   "id": "5d06ce91",
   "metadata": {},
   "outputs": [
    {
     "data": {
      "text/html": [
       "<div>\n",
       "<style scoped>\n",
       "    .dataframe tbody tr th:only-of-type {\n",
       "        vertical-align: middle;\n",
       "    }\n",
       "\n",
       "    .dataframe tbody tr th {\n",
       "        vertical-align: top;\n",
       "    }\n",
       "\n",
       "    .dataframe thead th {\n",
       "        text-align: right;\n",
       "    }\n",
       "</style>\n",
       "<table border=\"1\" class=\"dataframe\">\n",
       "  <thead>\n",
       "    <tr style=\"text-align: right;\">\n",
       "      <th></th>\n",
       "      <th>Unnamed: 0</th>\n",
       "      <th>id</th>\n",
       "      <th>title</th>\n",
       "      <th>tags</th>\n",
       "    </tr>\n",
       "  </thead>\n",
       "  <tbody>\n",
       "    <tr>\n",
       "      <th>0</th>\n",
       "      <td>0</td>\n",
       "      <td>19995</td>\n",
       "      <td>Avatar</td>\n",
       "      <td>action adventur fantasi sciencefict culturecla...</td>\n",
       "    </tr>\n",
       "    <tr>\n",
       "      <th>1</th>\n",
       "      <td>1</td>\n",
       "      <td>285</td>\n",
       "      <td>Pirates of the Caribbean: At World's End</td>\n",
       "      <td>adventur fantasi action ocean drugabu exoticis...</td>\n",
       "    </tr>\n",
       "    <tr>\n",
       "      <th>2</th>\n",
       "      <td>2</td>\n",
       "      <td>206647</td>\n",
       "      <td>Spectre</td>\n",
       "      <td>action adventur crime spi basedonnovel secreta...</td>\n",
       "    </tr>\n",
       "    <tr>\n",
       "      <th>3</th>\n",
       "      <td>3</td>\n",
       "      <td>49026</td>\n",
       "      <td>The Dark Knight Rises</td>\n",
       "      <td>action crime drama thriller dccomic crimefight...</td>\n",
       "    </tr>\n",
       "    <tr>\n",
       "      <th>4</th>\n",
       "      <td>4</td>\n",
       "      <td>49529</td>\n",
       "      <td>John Carter</td>\n",
       "      <td>action adventur sciencefict basedonnovel mar m...</td>\n",
       "    </tr>\n",
       "  </tbody>\n",
       "</table>\n",
       "</div>"
      ],
      "text/plain": [
       "   Unnamed: 0      id                                     title  \\\n",
       "0           0   19995                                    Avatar   \n",
       "1           1     285  Pirates of the Caribbean: At World's End   \n",
       "2           2  206647                                   Spectre   \n",
       "3           3   49026                     The Dark Knight Rises   \n",
       "4           4   49529                               John Carter   \n",
       "\n",
       "                                                tags  \n",
       "0  action adventur fantasi sciencefict culturecla...  \n",
       "1  adventur fantasi action ocean drugabu exoticis...  \n",
       "2  action adventur crime spi basedonnovel secreta...  \n",
       "3  action crime drama thriller dccomic crimefight...  \n",
       "4  action adventur sciencefict basedonnovel mar m...  "
      ]
     },
     "execution_count": 247,
     "metadata": {},
     "output_type": "execute_result"
    }
   ],
   "source": [
    "movies_df.head()"
   ]
  },
  {
   "cell_type": "code",
   "execution_count": 248,
   "id": "710f2782",
   "metadata": {},
   "outputs": [],
   "source": [
    "movies_df.to_csv('movie_df.csv')"
   ]
  },
  {
   "cell_type": "code",
   "execution_count": 249,
   "id": "924186e1",
   "metadata": {},
   "outputs": [
    {
     "data": {
      "text/html": [
       "<div>\n",
       "<style scoped>\n",
       "    .dataframe tbody tr th:only-of-type {\n",
       "        vertical-align: middle;\n",
       "    }\n",
       "\n",
       "    .dataframe tbody tr th {\n",
       "        vertical-align: top;\n",
       "    }\n",
       "\n",
       "    .dataframe thead th {\n",
       "        text-align: right;\n",
       "    }\n",
       "</style>\n",
       "<table border=\"1\" class=\"dataframe\">\n",
       "  <thead>\n",
       "    <tr style=\"text-align: right;\">\n",
       "      <th></th>\n",
       "      <th>Unnamed: 0.1</th>\n",
       "      <th>Unnamed: 0</th>\n",
       "      <th>id</th>\n",
       "      <th>title</th>\n",
       "      <th>tags</th>\n",
       "    </tr>\n",
       "  </thead>\n",
       "  <tbody>\n",
       "    <tr>\n",
       "      <th>0</th>\n",
       "      <td>0</td>\n",
       "      <td>0</td>\n",
       "      <td>19995</td>\n",
       "      <td>Avatar</td>\n",
       "      <td>action adventur fantasi sciencefict culturecla...</td>\n",
       "    </tr>\n",
       "    <tr>\n",
       "      <th>1</th>\n",
       "      <td>1</td>\n",
       "      <td>1</td>\n",
       "      <td>285</td>\n",
       "      <td>Pirates of the Caribbean: At World's End</td>\n",
       "      <td>adventur fantasi action ocean drugabu exoticis...</td>\n",
       "    </tr>\n",
       "    <tr>\n",
       "      <th>2</th>\n",
       "      <td>2</td>\n",
       "      <td>2</td>\n",
       "      <td>206647</td>\n",
       "      <td>Spectre</td>\n",
       "      <td>action adventur crime spi basedonnovel secreta...</td>\n",
       "    </tr>\n",
       "    <tr>\n",
       "      <th>3</th>\n",
       "      <td>3</td>\n",
       "      <td>3</td>\n",
       "      <td>49026</td>\n",
       "      <td>The Dark Knight Rises</td>\n",
       "      <td>action crime drama thriller dccomic crimefight...</td>\n",
       "    </tr>\n",
       "    <tr>\n",
       "      <th>4</th>\n",
       "      <td>4</td>\n",
       "      <td>4</td>\n",
       "      <td>49529</td>\n",
       "      <td>John Carter</td>\n",
       "      <td>action adventur sciencefict basedonnovel mar m...</td>\n",
       "    </tr>\n",
       "  </tbody>\n",
       "</table>\n",
       "</div>"
      ],
      "text/plain": [
       "   Unnamed: 0.1  Unnamed: 0      id                                     title  \\\n",
       "0             0           0   19995                                    Avatar   \n",
       "1             1           1     285  Pirates of the Caribbean: At World's End   \n",
       "2             2           2  206647                                   Spectre   \n",
       "3             3           3   49026                     The Dark Knight Rises   \n",
       "4             4           4   49529                               John Carter   \n",
       "\n",
       "                                                tags  \n",
       "0  action adventur fantasi sciencefict culturecla...  \n",
       "1  adventur fantasi action ocean drugabu exoticis...  \n",
       "2  action adventur crime spi basedonnovel secreta...  \n",
       "3  action crime drama thriller dccomic crimefight...  \n",
       "4  action adventur sciencefict basedonnovel mar m...  "
      ]
     },
     "execution_count": 249,
     "metadata": {},
     "output_type": "execute_result"
    }
   ],
   "source": [
    "df=pd.read_csv('movie_df.csv')\n",
    "df.head()"
   ]
  },
  {
   "cell_type": "code",
   "execution_count": 250,
   "id": "69cb1e87",
   "metadata": {},
   "outputs": [],
   "source": [
    "from sklearn.feature_extraction.text import CountVectorizer\n",
    "cv=CountVectorizer()"
   ]
  },
  {
   "cell_type": "code",
   "execution_count": 251,
   "id": "03acca38",
   "metadata": {},
   "outputs": [],
   "source": [
    "vectors=cv.fit_transform(movies_df['tags']).toarray()"
   ]
  },
  {
   "cell_type": "code",
   "execution_count": 252,
   "id": "89a1e0d4",
   "metadata": {},
   "outputs": [
    {
     "data": {
      "text/plain": [
       "array([[0, 0, 0, ..., 0, 0, 0],\n",
       "       [0, 0, 0, ..., 0, 0, 0],\n",
       "       [0, 0, 0, ..., 0, 0, 0],\n",
       "       ...,\n",
       "       [0, 0, 0, ..., 0, 0, 0],\n",
       "       [0, 0, 0, ..., 0, 0, 0],\n",
       "       [0, 0, 0, ..., 0, 0, 0]], dtype=int64)"
      ]
     },
     "execution_count": 252,
     "metadata": {},
     "output_type": "execute_result"
    }
   ],
   "source": [
    "vectors"
   ]
  },
  {
   "cell_type": "code",
   "execution_count": 253,
   "id": "f346e050",
   "metadata": {},
   "outputs": [
    {
     "data": {
      "text/plain": [
       "array([0, 0, 0, ..., 0, 0, 0], dtype=int64)"
      ]
     },
     "execution_count": 253,
     "metadata": {},
     "output_type": "execute_result"
    }
   ],
   "source": [
    "vectors[0]"
   ]
  },
  {
   "cell_type": "code",
   "execution_count": 254,
   "id": "af14cbc9",
   "metadata": {},
   "outputs": [],
   "source": [
    "from sklearn.metrics.pairwise import cosine_similarity\n",
    "cos=cosine_similarity(vectors)"
   ]
  },
  {
   "cell_type": "code",
   "execution_count": 255,
   "id": "8bde881d",
   "metadata": {},
   "outputs": [
    {
     "data": {
      "text/plain": [
       "array([1.        , 0.2274141 , 0.21053227, ..., 0.22330319, 0.15075567,\n",
       "       0.11955702])"
      ]
     },
     "execution_count": 255,
     "metadata": {},
     "output_type": "execute_result"
    }
   ],
   "source": [
    "cos[0]"
   ]
  },
  {
   "cell_type": "code",
   "execution_count": 256,
   "id": "ca979061",
   "metadata": {},
   "outputs": [
    {
     "data": {
      "text/plain": [
       "[969,\n",
       " 3757,\n",
       " 2394,\n",
       " 4577,\n",
       " 3642,\n",
       " 159,\n",
       " 135,\n",
       " 3151,\n",
       " 3335,\n",
       " 2992,\n",
       " 4339,\n",
       " 1208,\n",
       " 4277,\n",
       " 648,\n",
       " 3154,\n",
       " 530,\n",
       " 3884,\n",
       " 3473,\n",
       " 843,\n",
       " 3120,\n",
       " 3966,\n",
       " 1314,\n",
       " 2835,\n",
       " 1143,\n",
       " 3800,\n",
       " 2430,\n",
       " 936,\n",
       " 3264,\n",
       " 2642,\n",
       " 3553]"
      ]
     },
     "execution_count": 256,
     "metadata": {},
     "output_type": "execute_result"
    }
   ],
   "source": [
    "def sample_30():\n",
    "    arr=np.array(movies_df.sample(30))\n",
    "    sample=[row[0] for row in arr]\n",
    "    return sample\n",
    "sample_30()"
   ]
  },
  {
   "cell_type": "code",
   "execution_count": 257,
   "id": "b5040f55",
   "metadata": {},
   "outputs": [],
   "source": [
    "def recommand_top_6(movie):\n",
    "    movie_index = movies_df[movies_df['title'] == movie].index[0]\n",
    "    distances = cos[movie_index]\n",
    "    # Get indices of movies sorted by similarity (highest first)\n",
    "    top_indices = np.argsort(distances)[::-1][1:7]  # Exclude the movie itself\n",
    "    return top_indices"
   ]
  },
  {
   "cell_type": "code",
   "execution_count": 258,
   "id": "29ea906d",
   "metadata": {},
   "outputs": [],
   "source": [
    "def recommand_top_7_to_12(movie):\n",
    "    movie_index = movies_df[movies_df['title'] == movie].index[0]\n",
    "    distances = cos[movie_index]\n",
    "    # Get indices of movies sorted by similarity (highest first)\n",
    "    top_indices = np.argsort(distances)[::-1][7:13]  # Exclude the movie itself\n",
    "    return top_indices"
   ]
  },
  {
   "cell_type": "code",
   "execution_count": null,
   "id": "8f59c160",
   "metadata": {},
   "outputs": [],
   "source": []
  },
  {
   "cell_type": "code",
   "execution_count": 259,
   "id": "85127e9e",
   "metadata": {},
   "outputs": [
    {
     "data": {
      "text/plain": [
       "array([1086, 1213,  507, 3604, 2403,  342], dtype=int64)"
      ]
     },
     "execution_count": 259,
     "metadata": {},
     "output_type": "execute_result"
    }
   ],
   "source": [
    "recommand_top_6('Avatar')"
   ]
  },
  {
   "cell_type": "code",
   "execution_count": 260,
   "id": "025c553b",
   "metadata": {},
   "outputs": [],
   "source": [
    "import pickle\n",
    "# open a file in binary write mode and dump the object into it\n",
    "with open('recommand_top_6.pkl', 'wb') as f:\n",
    "\tpickle.dump(recommand_top_6, f)\n",
    "with open('recommand_top_7_to_12.pkl','wb') as f:\n",
    "    pickle.dump(recommand_top_7_to_12,f)"
   ]
  },
  {
   "cell_type": "code",
   "execution_count": 261,
   "id": "009784de",
   "metadata": {},
   "outputs": [],
   "source": [
    "with open('sample_30.pkl', 'wb') as f:\n",
    "\tpickle.dump(sample_30, f)"
   ]
  },
  {
   "cell_type": "code",
   "execution_count": 262,
   "id": "b99c78ca",
   "metadata": {},
   "outputs": [],
   "source": [
    "with open('recommand_top_6.pkl','rb') as f:\n",
    "    rec=pickle.load(f)"
   ]
  },
  {
   "cell_type": "code",
   "execution_count": 263,
   "id": "e5e5ed00",
   "metadata": {},
   "outputs": [],
   "source": [
    "with open('sample_30.pkl','rb') as f:\n",
    "    super_30=pickle.load(f)"
   ]
  },
  {
   "cell_type": "code",
   "execution_count": 264,
   "id": "b228c0d1",
   "metadata": {},
   "outputs": [
    {
     "data": {
      "text/plain": [
       "[30,\n",
       " 3251,\n",
       " 3749,\n",
       " 4592,\n",
       " 1334,\n",
       " 4577,\n",
       " 4470,\n",
       " 2359,\n",
       " 3206,\n",
       " 1603,\n",
       " 1121,\n",
       " 4700,\n",
       " 4216,\n",
       " 3452,\n",
       " 340,\n",
       " 811,\n",
       " 1331,\n",
       " 4117,\n",
       " 3252,\n",
       " 4088,\n",
       " 1546,\n",
       " 4238,\n",
       " 1717,\n",
       " 2007,\n",
       " 3329,\n",
       " 3522,\n",
       " 1913,\n",
       " 180,\n",
       " 1254,\n",
       " 4506]"
      ]
     },
     "execution_count": 264,
     "metadata": {},
     "output_type": "execute_result"
    }
   ],
   "source": [
    "super_30()"
   ]
  },
  {
   "cell_type": "code",
   "execution_count": 265,
   "id": "9f93c3ac",
   "metadata": {},
   "outputs": [
    {
     "data": {
      "text/plain": [
       "array([1086, 1213,  507, 3604, 2403,  342], dtype=int64)"
      ]
     },
     "execution_count": 265,
     "metadata": {},
     "output_type": "execute_result"
    }
   ],
   "source": [
    "rec('Avatar')"
   ]
  },
  {
   "cell_type": "code",
   "execution_count": 266,
   "id": "1469adfb",
   "metadata": {},
   "outputs": [],
   "source": [
    "with open('recommand_top_7_to_12.pkl','rb') as f:\n",
    "    rec=pickle.load(f)"
   ]
  },
  {
   "cell_type": "code",
   "execution_count": 267,
   "id": "dde5e39b",
   "metadata": {},
   "outputs": [
    {
     "data": {
      "text/plain": [
       "array([ 300,  582,  539, 3899,  461, 2967], dtype=int64)"
      ]
     },
     "execution_count": 267,
     "metadata": {},
     "output_type": "execute_result"
    }
   ],
   "source": [
    "rec('Avatar')"
   ]
  },
  {
   "cell_type": "code",
   "execution_count": 268,
   "id": "5be39bec",
   "metadata": {},
   "outputs": [
    {
     "name": "stdout",
     "output_type": "stream",
     "text": [
      "Aliens in the Attic\n",
      "Aliens vs Predator: Requiem\n",
      "Independence Day\n",
      "Apollo 18\n",
      "Aliens\n",
      "Men in Black\n"
     ]
    }
   ],
   "source": [
    "def movie_name(List):\n",
    "    for i in List:\n",
    "        print(movies_df.iloc[i]['title'])\n",
    "movie_name(list(recommand_top_6('Avatar')))\n"
   ]
  }
 ],
 "metadata": {
  "kernelspec": {
   "display_name": "Python 3",
   "language": "python",
   "name": "python3"
  },
  "language_info": {
   "codemirror_mode": {
    "name": "ipython",
    "version": 3
   },
   "file_extension": ".py",
   "mimetype": "text/x-python",
   "name": "python",
   "nbconvert_exporter": "python",
   "pygments_lexer": "ipython3",
   "version": "3.11.4"
  }
 },
 "nbformat": 4,
 "nbformat_minor": 5
}
